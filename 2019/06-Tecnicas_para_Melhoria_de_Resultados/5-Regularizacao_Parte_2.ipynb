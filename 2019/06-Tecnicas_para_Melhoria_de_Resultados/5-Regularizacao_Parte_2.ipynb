{
 "cells": [
  {
   "cell_type": "markdown",
   "metadata": {},
   "source": [
    "# Regularização\n",
    "- l1\n",
    "- l2\n",
    "- elasticnet"
   ]
  },
  {
   "cell_type": "code",
   "execution_count": 1,
   "metadata": {},
   "outputs": [],
   "source": [
    "import numpy as np\n",
    "import pandas as pd\n",
    "from sklearn import linear_model\n",
    "from sklearn.model_selection import train_test_split\n",
    "from sklearn.preprocessing import StandardScaler\n",
    "from sklearn.metrics import accuracy_score"
   ]
  },
  {
   "cell_type": "code",
   "execution_count": 2,
   "metadata": {},
   "outputs": [
    {
     "name": "stdout",
     "output_type": "stream",
     "text": [
      "Class labels [1 2 3]\n"
     ]
    },
    {
     "data": {
      "text/html": [
       "<div>\n",
       "<style scoped>\n",
       "    .dataframe tbody tr th:only-of-type {\n",
       "        vertical-align: middle;\n",
       "    }\n",
       "\n",
       "    .dataframe tbody tr th {\n",
       "        vertical-align: top;\n",
       "    }\n",
       "\n",
       "    .dataframe thead th {\n",
       "        text-align: right;\n",
       "    }\n",
       "</style>\n",
       "<table border=\"1\" class=\"dataframe\">\n",
       "  <thead>\n",
       "    <tr style=\"text-align: right;\">\n",
       "      <th></th>\n",
       "      <th>Class label</th>\n",
       "      <th>Alcohol</th>\n",
       "      <th>Malic acid</th>\n",
       "      <th>Ash</th>\n",
       "      <th>Alcalinity of ash</th>\n",
       "      <th>Magnesium</th>\n",
       "      <th>Total phenols</th>\n",
       "      <th>Flavanoids</th>\n",
       "      <th>Nonflavanoid phenols</th>\n",
       "      <th>Proanthocyanins</th>\n",
       "      <th>Color intensity</th>\n",
       "      <th>Hue</th>\n",
       "      <th>OD280/OD315 of diluted wines</th>\n",
       "      <th>Proline</th>\n",
       "    </tr>\n",
       "  </thead>\n",
       "  <tbody>\n",
       "    <tr>\n",
       "      <th>0</th>\n",
       "      <td>1</td>\n",
       "      <td>14.23</td>\n",
       "      <td>1.71</td>\n",
       "      <td>2.43</td>\n",
       "      <td>15.6</td>\n",
       "      <td>127</td>\n",
       "      <td>2.80</td>\n",
       "      <td>3.06</td>\n",
       "      <td>0.28</td>\n",
       "      <td>2.29</td>\n",
       "      <td>5.64</td>\n",
       "      <td>1.04</td>\n",
       "      <td>3.92</td>\n",
       "      <td>1065</td>\n",
       "    </tr>\n",
       "    <tr>\n",
       "      <th>1</th>\n",
       "      <td>1</td>\n",
       "      <td>13.20</td>\n",
       "      <td>1.78</td>\n",
       "      <td>2.14</td>\n",
       "      <td>11.2</td>\n",
       "      <td>100</td>\n",
       "      <td>2.65</td>\n",
       "      <td>2.76</td>\n",
       "      <td>0.26</td>\n",
       "      <td>1.28</td>\n",
       "      <td>4.38</td>\n",
       "      <td>1.05</td>\n",
       "      <td>3.40</td>\n",
       "      <td>1050</td>\n",
       "    </tr>\n",
       "    <tr>\n",
       "      <th>2</th>\n",
       "      <td>1</td>\n",
       "      <td>13.16</td>\n",
       "      <td>2.36</td>\n",
       "      <td>2.67</td>\n",
       "      <td>18.6</td>\n",
       "      <td>101</td>\n",
       "      <td>2.80</td>\n",
       "      <td>3.24</td>\n",
       "      <td>0.30</td>\n",
       "      <td>2.81</td>\n",
       "      <td>5.68</td>\n",
       "      <td>1.03</td>\n",
       "      <td>3.17</td>\n",
       "      <td>1185</td>\n",
       "    </tr>\n",
       "    <tr>\n",
       "      <th>3</th>\n",
       "      <td>1</td>\n",
       "      <td>14.37</td>\n",
       "      <td>1.95</td>\n",
       "      <td>2.50</td>\n",
       "      <td>16.8</td>\n",
       "      <td>113</td>\n",
       "      <td>3.85</td>\n",
       "      <td>3.49</td>\n",
       "      <td>0.24</td>\n",
       "      <td>2.18</td>\n",
       "      <td>7.80</td>\n",
       "      <td>0.86</td>\n",
       "      <td>3.45</td>\n",
       "      <td>1480</td>\n",
       "    </tr>\n",
       "    <tr>\n",
       "      <th>4</th>\n",
       "      <td>1</td>\n",
       "      <td>13.24</td>\n",
       "      <td>2.59</td>\n",
       "      <td>2.87</td>\n",
       "      <td>21.0</td>\n",
       "      <td>118</td>\n",
       "      <td>2.80</td>\n",
       "      <td>2.69</td>\n",
       "      <td>0.39</td>\n",
       "      <td>1.82</td>\n",
       "      <td>4.32</td>\n",
       "      <td>1.04</td>\n",
       "      <td>2.93</td>\n",
       "      <td>735</td>\n",
       "    </tr>\n",
       "  </tbody>\n",
       "</table>\n",
       "</div>"
      ],
      "text/plain": [
       "   Class label  Alcohol  Malic acid   Ash  Alcalinity of ash  Magnesium  \\\n",
       "0            1    14.23        1.71  2.43               15.6        127   \n",
       "1            1    13.20        1.78  2.14               11.2        100   \n",
       "2            1    13.16        2.36  2.67               18.6        101   \n",
       "3            1    14.37        1.95  2.50               16.8        113   \n",
       "4            1    13.24        2.59  2.87               21.0        118   \n",
       "\n",
       "   Total phenols  Flavanoids  Nonflavanoid phenols  Proanthocyanins  \\\n",
       "0           2.80        3.06                  0.28             2.29   \n",
       "1           2.65        2.76                  0.26             1.28   \n",
       "2           2.80        3.24                  0.30             2.81   \n",
       "3           3.85        3.49                  0.24             2.18   \n",
       "4           2.80        2.69                  0.39             1.82   \n",
       "\n",
       "   Color intensity   Hue  OD280/OD315 of diluted wines  Proline  \n",
       "0             5.64  1.04                          3.92     1065  \n",
       "1             4.38  1.05                          3.40     1050  \n",
       "2             5.68  1.03                          3.17     1185  \n",
       "3             7.80  0.86                          3.45     1480  \n",
       "4             4.32  1.04                          2.93      735  "
      ]
     },
     "execution_count": 2,
     "metadata": {},
     "output_type": "execute_result"
    }
   ],
   "source": [
    "# https://archive.ics.uci.edu/ml/machine-learning-databases/wine/wine.data\n",
    "df_wine = pd.read_csv('wine.data', header=None)\n",
    "\n",
    "\n",
    "df_wine.columns = ['Class label', 'Alcohol', 'Malic acid', 'Ash',\n",
    "                   'Alcalinity of ash', 'Magnesium', 'Total phenols',\n",
    "                   'Flavanoids', 'Nonflavanoid phenols', 'Proanthocyanins',\n",
    "                   'Color intensity', 'Hue', 'OD280/OD315 of diluted wines',\n",
    "                   'Proline']\n",
    "\n",
    "print('Class labels', np.unique(df_wine['Class label']))\n",
    "df_wine.head()"
   ]
  },
  {
   "cell_type": "code",
   "execution_count": 3,
   "metadata": {},
   "outputs": [],
   "source": [
    "X, y = df_wine.iloc[:, 1:].values, df_wine.iloc[:, 0].values\n",
    "\n",
    "X_train, X_test, y_train, y_test =\\\n",
    "    train_test_split(X, y, \n",
    "                     test_size=0.3, \n",
    "                     random_state=0, \n",
    "                     stratify=y)"
   ]
  },
  {
   "cell_type": "code",
   "execution_count": 4,
   "metadata": {},
   "outputs": [],
   "source": [
    "stdsc = StandardScaler()\n",
    "X_train_std = stdsc.fit_transform(X_train)\n",
    "X_test_std = stdsc.transform(X_test)"
   ]
  },
  {
   "cell_type": "code",
   "execution_count": 8,
   "metadata": {},
   "outputs": [
    {
     "name": "stdout",
     "output_type": "stream",
     "text": [
      "X.shape:(178, 13)\n",
      "np.unique(y):[1 2 3]\n",
      "accuracy_score:1.0\n",
      "intercept_:\n",
      "[-1.26336366 -1.21618634 -2.37024246]\n",
      "coef_:\n",
      "[[ 1.24570162  0.18080713  0.74353603 -1.16136393  0.          0.\n",
      "   1.17018229  0.          0.          0.          0.          0.54694578\n",
      "   2.5105225 ]\n",
      " [-1.53703752 -0.38783998 -0.99522581  0.36515494 -0.05971764  0.\n",
      "   0.6679069   0.          0.         -1.93444244  1.23318828  0.\n",
      "  -2.23120752]\n",
      " [ 0.13569598  0.16855897  0.35714641  0.          0.          0.\n",
      "  -2.43805494  0.          0.          1.56356741 -0.81860375 -0.4927206\n",
      "   0.        ]]\n"
     ]
    },
    {
     "name": "stderr",
     "output_type": "stream",
     "text": [
      "/Users/regis/miniconda3/envs/ml/lib/python3.7/site-packages/sklearn/linear_model/logistic.py:432: FutureWarning: Default solver will be changed to 'lbfgs' in 0.22. Specify a solver to silence this warning.\n",
      "  FutureWarning)\n",
      "/Users/regis/miniconda3/envs/ml/lib/python3.7/site-packages/sklearn/linear_model/logistic.py:469: FutureWarning: Default multi_class will be changed to 'auto' in 0.22. Specify the multi_class option to silence this warning.\n",
      "  \"this warning.\", FutureWarning)\n"
     ]
    }
   ],
   "source": [
    "model_none = linear_model.LogisticRegression(penalty='l1', random_state=0)\n",
    "model_none.fit(X_train_std, y_train)\n",
    "y_pred = model_none.predict(X_test_std)\n",
    "print('X.shape:{}'.format(X.shape))\n",
    "print('np.unique(y):{}'.format(np.unique(y)))\n",
    "print('accuracy_score:{}\\nintercept_:\\n{}\\ncoef_:\\n{}'.format(accuracy_score(y_test, y_pred), model_none.intercept_, model_none.coef_))"
   ]
  },
  {
   "cell_type": "code",
   "execution_count": 9,
   "metadata": {},
   "outputs": [
    {
     "name": "stdout",
     "output_type": "stream",
     "text": [
      "X.shape:(178, 13)\n",
      "np.unique(y):[1 2 3]\n",
      "accuracy_score:1.0\n",
      "intercept_:\n",
      "[ -5.34367555  -9.83597933 -10.34822926]\n",
      "coef_:\n",
      "[[  7.37971842   1.81843827   4.09097135  -5.93813415   0.67779717\n",
      "    0.           5.14286923   0.           0.7666902   -1.60830282\n",
      "   -1.53632016   3.05438695   8.05538403]\n",
      " [ -5.87746531  -2.99270879  -7.04717127   3.7063072   -0.54593881\n",
      "    0.           4.74976612   2.88915393   0.         -18.86491688\n",
      "    5.39725019   0.5877811  -16.25710372]\n",
      " [  4.11244662   0.79818694   4.04740036   0.          -0.27890452\n",
      "    0.86776836  -8.616848    -2.09840888  -1.74589349   7.96442912\n",
      "   -5.91091895  -3.93415426   0.69609926]]\n"
     ]
    },
    {
     "name": "stderr",
     "output_type": "stream",
     "text": [
      "/Users/regis/miniconda3/envs/ml/lib/python3.7/site-packages/sklearn/linear_model/logistic.py:432: FutureWarning: Default solver will be changed to 'lbfgs' in 0.22. Specify a solver to silence this warning.\n",
      "  FutureWarning)\n",
      "/Users/regis/miniconda3/envs/ml/lib/python3.7/site-packages/sklearn/linear_model/logistic.py:469: FutureWarning: Default multi_class will be changed to 'auto' in 0.22. Specify the multi_class option to silence this warning.\n",
      "  \"this warning.\", FutureWarning)\n"
     ]
    }
   ],
   "source": [
    "model_none = linear_model.LogisticRegression(penalty='l1', C=1000, random_state=0)\n",
    "model_none.fit(X_train_std, y_train)\n",
    "y_pred = model_none.predict(X_test_std)\n",
    "print('X.shape:{}'.format(X.shape))\n",
    "print('np.unique(y):{}'.format(np.unique(y)))\n",
    "print('accuracy_score:{}\\nintercept_:\\n{}\\ncoef_:\\n{}'.format(accuracy_score(y_test, y_pred), model_none.intercept_, model_none.coef_))"
   ]
  },
  {
   "cell_type": "code",
   "execution_count": 6,
   "metadata": {},
   "outputs": [
    {
     "name": "stdout",
     "output_type": "stream",
     "text": [
      "X.shape:(178, 13)\n",
      "np.unique(y):[1 2 3]\n",
      "accuracy_score:1.0\n",
      "intercept_:\n",
      "[-1.33509136 -0.96973542 -2.04898785]\n",
      "coef_:\n",
      "[[ 1.27713853  0.38210274  0.8015599  -1.30842842  0.22782837  0.23101419\n",
      "   0.90234371 -0.08423823  0.01462196 -0.0312838   0.02796323  0.71703048\n",
      "   1.79262118]\n",
      " [-1.45395571 -0.620303   -1.05445248  0.67148394 -0.29048951  0.18277571\n",
      "   0.51163918  0.10789643  0.08199321 -1.61228834  0.88800662  0.1659356\n",
      "  -1.73246957]\n",
      " [ 0.38965148  0.4083047   0.40211468  0.26242969  0.15288658 -0.20064653\n",
      "  -1.38792256 -0.06305419 -0.28440345  1.2553389  -0.93849662 -0.83821807\n",
      "   0.13754706]]\n"
     ]
    },
    {
     "name": "stderr",
     "output_type": "stream",
     "text": [
      "/Users/regis/miniconda3/envs/ml/lib/python3.7/site-packages/sklearn/linear_model/logistic.py:432: FutureWarning: Default solver will be changed to 'lbfgs' in 0.22. Specify a solver to silence this warning.\n",
      "  FutureWarning)\n",
      "/Users/regis/miniconda3/envs/ml/lib/python3.7/site-packages/sklearn/linear_model/logistic.py:469: FutureWarning: Default multi_class will be changed to 'auto' in 0.22. Specify the multi_class option to silence this warning.\n",
      "  \"this warning.\", FutureWarning)\n"
     ]
    }
   ],
   "source": [
    "model_none = linear_model.LogisticRegression(penalty='l2', random_state=0)\n",
    "model_none.fit(X_train_std, y_train)\n",
    "y_pred = model_none.predict(X_test_std)\n",
    "print('X.shape:{}'.format(X.shape))\n",
    "print('np.unique(y):{}'.format(np.unique(y)))\n",
    "print('accuracy_score:{}\\nintercept_:\\n{}\\ncoef_:\\n{}'.format(accuracy_score(y_test, y_pred), model_none.intercept_, model_none.coef_))"
   ]
  },
  {
   "cell_type": "code",
   "execution_count": 7,
   "metadata": {},
   "outputs": [
    {
     "name": "stdout",
     "output_type": "stream",
     "text": [
      "X.shape:(178, 13)\n",
      "np.unique(y):[1 2 3]\n",
      "accuracy_score:1.0\n",
      "intercept_:\n",
      "[ 0.36862533  0.78036204 -1.14898737]\n",
      "coef_:\n",
      "[[ 0.78792639  0.24089338  0.4473384  -0.73489829  0.1113343   0.22607273\n",
      "   0.60652205 -0.14847572  0.24131476  0.14140959  0.10670518  0.58061102\n",
      "   0.98240089]\n",
      " [-0.95393153 -0.43668273 -0.76795841  0.50646632 -0.17622299  0.07110642\n",
      "   0.38809799  0.09343743  0.11353057 -0.91231356  0.61090399  0.16780023\n",
      "  -1.10002567]\n",
      " [ 0.16600514  0.19578935  0.32062001  0.22843197  0.06488869 -0.29717916\n",
      "  -0.99462004  0.05503829 -0.35484533  0.77090397 -0.71760916 -0.74841125\n",
      "   0.11762478]]\n"
     ]
    }
   ],
   "source": [
    "model_none = linear_model.LogisticRegression(multi_class='multinomial', solver='newton-cg', penalty='l2', random_state=0)\n",
    "model_none.fit(X_train_std, y_train)\n",
    "y_pred = model_none.predict(X_test_std)\n",
    "print('X.shape:{}'.format(X.shape))\n",
    "print('np.unique(y):{}'.format(np.unique(y)))\n",
    "print('accuracy_score:{}\\nintercept_:\\n{}\\ncoef_:\\n{}'.format(accuracy_score(y_test, y_pred), model_none.intercept_, model_none.coef_))"
   ]
  },
  {
   "cell_type": "code",
   "execution_count": 10,
   "metadata": {},
   "outputs": [
    {
     "name": "stdout",
     "output_type": "stream",
     "text": [
      "accuracy_score:1.0\n",
      "intercept_:\n",
      "[-201.07631485 -116.83845336 -298.83174314]\n",
      "coef_:\n",
      "[[ 184.0837208     4.97847036  200.80760411 -244.769326    -37.28502688\n",
      "    34.94173915  107.20826247   -5.3349541    33.32242095   -8.88345234\n",
      "    39.39087707  104.58864457  175.57518504]\n",
      " [-181.46269972  -79.94220401 -178.19711545  111.00749513  -18.09383234\n",
      "   -23.49236238   95.56119945   51.25561724  -38.65543097 -267.59709082\n",
      "   177.60799045   57.10920891 -281.76635673]\n",
      " [  45.36899167   39.20740018   85.94673151    6.47688697    0.97451069\n",
      "   -53.23989804 -192.78059131  -21.57630735  -56.30943776  182.53863486\n",
      "  -104.18774991 -106.08480099   33.3915707 ]]\n"
     ]
    }
   ],
   "source": [
    "model_none = linear_model.SGDClassifier(loss='modified_huber', penalty='none', random_state=0)\n",
    "model_none.fit(X_train_std, y_train)\n",
    "y_pred = model_none.predict(X_test_std)\n",
    "print('accuracy_score:{}\\nintercept_:\\n{}\\ncoef_:\\n{}'.format(accuracy_score(y_test, y_pred), model_none.intercept_, model_none.coef_))"
   ]
  },
  {
   "cell_type": "code",
   "execution_count": 11,
   "metadata": {},
   "outputs": [
    {
     "name": "stdout",
     "output_type": "stream",
     "text": [
      "accuracy_score:0.9814814814814815\n",
      "intercept_:\n",
      "[-201.07631485 -116.83845336 -298.83174314]\n",
      "coef_:\n",
      "[[ 184.0837208     4.97847036  200.80760411 -244.769326    -37.28502688\n",
      "    34.94173915  107.20826247   -5.3349541    33.32242095   -8.88345234\n",
      "    39.39087707  104.58864457  175.57518504]\n",
      " [-181.46269972  -79.94220401 -178.19711545  111.00749513  -18.09383234\n",
      "   -23.49236238   95.56119945   51.25561724  -38.65543097 -267.59709082\n",
      "   177.60799045   57.10920891 -281.76635673]\n",
      " [  45.36899167   39.20740018   85.94673151    6.47688697    0.97451069\n",
      "   -53.23989804 -192.78059131  -21.57630735  -56.30943776  182.53863486\n",
      "  -104.18774991 -106.08480099   33.3915707 ]]\n"
     ]
    }
   ],
   "source": [
    "model_l1 = linear_model.SGDClassifier(loss='modified_huber', penalty='l1', random_state=0)\n",
    "model_l1.fit(X_train_std, y_train)\n",
    "y_pred = model_l1.predict(X_test_std)\n",
    "print('accuracy_score:{}\\nintercept_:\\n{}\\ncoef_:\\n{}'.format(accuracy_score(y_test, y_pred), model_none.intercept_, model_none.coef_))"
   ]
  },
  {
   "cell_type": "code",
   "execution_count": 10,
   "metadata": {},
   "outputs": [
    {
     "name": "stdout",
     "output_type": "stream",
     "text": [
      "accuracy_score:0.9814814814814815\n",
      "intercept_:\n",
      "[-201.07631485 -116.83845336 -298.83174314]\n",
      "coef_:\n",
      "[[ 184.0837208     4.97847036  200.80760411 -244.769326    -37.28502688\n",
      "    34.94173915  107.20826247   -5.3349541    33.32242095   -8.88345234\n",
      "    39.39087707  104.58864457  175.57518504]\n",
      " [-181.46269972  -79.94220401 -178.19711545  111.00749513  -18.09383234\n",
      "   -23.49236238   95.56119945   51.25561724  -38.65543097 -267.59709082\n",
      "   177.60799045   57.10920891 -281.76635673]\n",
      " [  45.36899167   39.20740018   85.94673151    6.47688697    0.97451069\n",
      "   -53.23989804 -192.78059131  -21.57630735  -56.30943776  182.53863486\n",
      "  -104.18774991 -106.08480099   33.3915707 ]]\n"
     ]
    }
   ],
   "source": [
    "model_l2 = linear_model.SGDClassifier(loss='modified_huber', penalty='l2', random_state=0,)\n",
    "model_l2.fit(X_train_std, y_train)\n",
    "y_pred = model_l2.predict(X_test_std)\n",
    "print('accuracy_score:{}\\nintercept_:\\n{}\\ncoef_:\\n{}'.format(accuracy_score(y_test, y_pred), model_none.intercept_, model_none.coef_))"
   ]
  },
  {
   "cell_type": "code",
   "execution_count": 11,
   "metadata": {},
   "outputs": [
    {
     "name": "stdout",
     "output_type": "stream",
     "text": [
      "accuracy_score:1.0\n",
      "intercept_:\n",
      "[-201.07631485 -116.83845336 -298.83174314]\n",
      "coef_:\n",
      "[[ 184.0837208     4.97847036  200.80760411 -244.769326    -37.28502688\n",
      "    34.94173915  107.20826247   -5.3349541    33.32242095   -8.88345234\n",
      "    39.39087707  104.58864457  175.57518504]\n",
      " [-181.46269972  -79.94220401 -178.19711545  111.00749513  -18.09383234\n",
      "   -23.49236238   95.56119945   51.25561724  -38.65543097 -267.59709082\n",
      "   177.60799045   57.10920891 -281.76635673]\n",
      " [  45.36899167   39.20740018   85.94673151    6.47688697    0.97451069\n",
      "   -53.23989804 -192.78059131  -21.57630735  -56.30943776  182.53863486\n",
      "  -104.18774991 -106.08480099   33.3915707 ]]\n"
     ]
    }
   ],
   "source": [
    "model = linear_model.SGDClassifier(loss='modified_huber', penalty='elasticnet', random_state=0)\n",
    "model.fit(X_train_std, y_train)\n",
    "y_pred = model.predict(X_test_std)\n",
    "print('accuracy_score:{}\\nintercept_:\\n{}\\ncoef_:\\n{}'.format(accuracy_score(y_test, y_pred), model_none.intercept_, model_none.coef_))"
   ]
  },
  {
   "cell_type": "code",
   "execution_count": 12,
   "metadata": {},
   "outputs": [
    {
     "data": {
      "text/plain": [
       "array([1, 2, 3])"
      ]
     },
     "execution_count": 12,
     "metadata": {},
     "output_type": "execute_result"
    }
   ],
   "source": [
    "np.unique(y)"
   ]
  },
  {
   "cell_type": "code",
   "execution_count": null,
   "metadata": {},
   "outputs": [],
   "source": []
  }
 ],
 "metadata": {
  "kernelspec": {
   "display_name": "Python 3",
   "language": "python",
   "name": "python3"
  },
  "language_info": {
   "codemirror_mode": {
    "name": "ipython",
    "version": 3
   },
   "file_extension": ".py",
   "mimetype": "text/x-python",
   "name": "python",
   "nbconvert_exporter": "python",
   "pygments_lexer": "ipython3",
   "version": "3.7.3"
  }
 },
 "nbformat": 4,
 "nbformat_minor": 2
}
