{
 "cells": [
  {
   "cell_type": "markdown",
   "metadata": {},
   "source": [
    "# Prática Supervisionada\n",
    "## Misturando aprendizagem supervisionada com não supervisionada"
   ]
  },
  {
   "cell_type": "markdown",
   "metadata": {},
   "source": [
    "Agora vamos trabalhar com um cenário que é bem comum quando lidamos com dados, especialmente dados do contexdo de crédito bancário.\n",
    "\n",
    "O dataset no arquivo *default of credit card clients.csv* contém dados sobre créditos bancários, onde temos um atributo de ID do cliente, 23 atributos de perfil caracterizando o cliente e um informando se o crédito foi aprovado ou não."
   ]
  },
  {
   "cell_type": "code",
   "execution_count": 1,
   "metadata": {},
   "outputs": [
    {
     "data": {
      "text/html": [
       "<div>\n",
       "<style scoped>\n",
       "    .dataframe tbody tr th:only-of-type {\n",
       "        vertical-align: middle;\n",
       "    }\n",
       "\n",
       "    .dataframe tbody tr th {\n",
       "        vertical-align: top;\n",
       "    }\n",
       "\n",
       "    .dataframe thead th {\n",
       "        text-align: right;\n",
       "    }\n",
       "</style>\n",
       "<table border=\"1\" class=\"dataframe\">\n",
       "  <thead>\n",
       "    <tr style=\"text-align: right;\">\n",
       "      <th></th>\n",
       "      <th>ID</th>\n",
       "      <th>X1</th>\n",
       "      <th>X2</th>\n",
       "      <th>X3</th>\n",
       "      <th>X4</th>\n",
       "      <th>X5</th>\n",
       "      <th>X6</th>\n",
       "      <th>X7</th>\n",
       "      <th>X8</th>\n",
       "      <th>X9</th>\n",
       "      <th>...</th>\n",
       "      <th>X15</th>\n",
       "      <th>X16</th>\n",
       "      <th>X17</th>\n",
       "      <th>X18</th>\n",
       "      <th>X19</th>\n",
       "      <th>X20</th>\n",
       "      <th>X21</th>\n",
       "      <th>X22</th>\n",
       "      <th>X23</th>\n",
       "      <th>Y</th>\n",
       "    </tr>\n",
       "  </thead>\n",
       "  <tbody>\n",
       "    <tr>\n",
       "      <th>0</th>\n",
       "      <td>1</td>\n",
       "      <td>20000</td>\n",
       "      <td>2</td>\n",
       "      <td>2</td>\n",
       "      <td>1</td>\n",
       "      <td>24</td>\n",
       "      <td>2</td>\n",
       "      <td>2</td>\n",
       "      <td>-1</td>\n",
       "      <td>-1</td>\n",
       "      <td>...</td>\n",
       "      <td>0</td>\n",
       "      <td>0</td>\n",
       "      <td>0</td>\n",
       "      <td>0</td>\n",
       "      <td>689</td>\n",
       "      <td>0</td>\n",
       "      <td>0</td>\n",
       "      <td>0</td>\n",
       "      <td>0</td>\n",
       "      <td>1</td>\n",
       "    </tr>\n",
       "    <tr>\n",
       "      <th>1</th>\n",
       "      <td>2</td>\n",
       "      <td>120000</td>\n",
       "      <td>2</td>\n",
       "      <td>2</td>\n",
       "      <td>2</td>\n",
       "      <td>26</td>\n",
       "      <td>-1</td>\n",
       "      <td>2</td>\n",
       "      <td>0</td>\n",
       "      <td>0</td>\n",
       "      <td>...</td>\n",
       "      <td>3272</td>\n",
       "      <td>3455</td>\n",
       "      <td>3261</td>\n",
       "      <td>0</td>\n",
       "      <td>1000</td>\n",
       "      <td>1000</td>\n",
       "      <td>1000</td>\n",
       "      <td>0</td>\n",
       "      <td>2000</td>\n",
       "      <td>1</td>\n",
       "    </tr>\n",
       "    <tr>\n",
       "      <th>2</th>\n",
       "      <td>3</td>\n",
       "      <td>90000</td>\n",
       "      <td>2</td>\n",
       "      <td>2</td>\n",
       "      <td>2</td>\n",
       "      <td>34</td>\n",
       "      <td>0</td>\n",
       "      <td>0</td>\n",
       "      <td>0</td>\n",
       "      <td>0</td>\n",
       "      <td>...</td>\n",
       "      <td>14331</td>\n",
       "      <td>14948</td>\n",
       "      <td>15549</td>\n",
       "      <td>1518</td>\n",
       "      <td>1500</td>\n",
       "      <td>1000</td>\n",
       "      <td>1000</td>\n",
       "      <td>1000</td>\n",
       "      <td>5000</td>\n",
       "      <td>0</td>\n",
       "    </tr>\n",
       "    <tr>\n",
       "      <th>3</th>\n",
       "      <td>4</td>\n",
       "      <td>50000</td>\n",
       "      <td>2</td>\n",
       "      <td>2</td>\n",
       "      <td>1</td>\n",
       "      <td>37</td>\n",
       "      <td>0</td>\n",
       "      <td>0</td>\n",
       "      <td>0</td>\n",
       "      <td>0</td>\n",
       "      <td>...</td>\n",
       "      <td>28314</td>\n",
       "      <td>28959</td>\n",
       "      <td>29547</td>\n",
       "      <td>2000</td>\n",
       "      <td>2019</td>\n",
       "      <td>1200</td>\n",
       "      <td>1100</td>\n",
       "      <td>1069</td>\n",
       "      <td>1000</td>\n",
       "      <td>0</td>\n",
       "    </tr>\n",
       "    <tr>\n",
       "      <th>4</th>\n",
       "      <td>5</td>\n",
       "      <td>50000</td>\n",
       "      <td>1</td>\n",
       "      <td>2</td>\n",
       "      <td>1</td>\n",
       "      <td>57</td>\n",
       "      <td>-1</td>\n",
       "      <td>0</td>\n",
       "      <td>-1</td>\n",
       "      <td>0</td>\n",
       "      <td>...</td>\n",
       "      <td>20940</td>\n",
       "      <td>19146</td>\n",
       "      <td>19131</td>\n",
       "      <td>2000</td>\n",
       "      <td>36681</td>\n",
       "      <td>10000</td>\n",
       "      <td>9000</td>\n",
       "      <td>689</td>\n",
       "      <td>679</td>\n",
       "      <td>0</td>\n",
       "    </tr>\n",
       "  </tbody>\n",
       "</table>\n",
       "<p>5 rows × 25 columns</p>\n",
       "</div>"
      ],
      "text/plain": [
       "   ID      X1  X2  X3  X4  X5  X6  X7  X8  X9 ...    X15    X16    X17   X18  \\\n",
       "0   1   20000   2   2   1  24   2   2  -1  -1 ...      0      0      0     0   \n",
       "1   2  120000   2   2   2  26  -1   2   0   0 ...   3272   3455   3261     0   \n",
       "2   3   90000   2   2   2  34   0   0   0   0 ...  14331  14948  15549  1518   \n",
       "3   4   50000   2   2   1  37   0   0   0   0 ...  28314  28959  29547  2000   \n",
       "4   5   50000   1   2   1  57  -1   0  -1   0 ...  20940  19146  19131  2000   \n",
       "\n",
       "     X19    X20   X21   X22   X23  Y  \n",
       "0    689      0     0     0     0  1  \n",
       "1   1000   1000  1000     0  2000  1  \n",
       "2   1500   1000  1000  1000  5000  0  \n",
       "3   2019   1200  1100  1069  1000  0  \n",
       "4  36681  10000  9000   689   679  0  \n",
       "\n",
       "[5 rows x 25 columns]"
      ]
     },
     "execution_count": 1,
     "metadata": {},
     "output_type": "execute_result"
    }
   ],
   "source": [
    "import pandas as pd\n",
    "df = pd.read_csv(\"default of credit card clients.csv\")\n",
    "df.head()"
   ]
  },
  {
   "cell_type": "markdown",
   "metadata": {},
   "source": [
    "Vamos tentar aprender, utilizando o *kNN*, se um cliente vai (**1**) ou não (**0**) ter crédito aprovado. Vamos não, **você vai**, até porque é você quem está praticando!\n",
    "\n",
    "Dica: será que devemos usar todos os atributos?"
   ]
  },
  {
   "cell_type": "code",
   "execution_count": 28,
   "metadata": {},
   "outputs": [
    {
     "data": {
      "text/plain": [
       "0.7681666666666667"
      ]
     },
     "execution_count": 28,
     "metadata": {},
     "output_type": "execute_result"
    }
   ],
   "source": [
    "data = df.values[:,1:]\n",
    "\n",
    "from math import floor\n",
    "import numpy as np\n",
    "\n",
    "np.random.shuffle(balanced_data)\n",
    "\n",
    "train_size = floor(0.8 * data.shape[0])\n",
    "train_data = data[:train_size,:]\n",
    "test_data = data[train_size:,:]\n",
    "\n",
    "from sklearn.neighbors import KNeighborsClassifier\n",
    "model = KNeighborsClassifier(n_neighbors= 5)\n",
    "model.fit(train_data[:, 0:-1], train_data[:, -1])\n",
    "model.score(test_data[:,0:-1], test_data[:,-1])"
   ]
  },
  {
   "cell_type": "markdown",
   "metadata": {},
   "source": [
    "É, até que esse é um resultado aceitável, mas será que dá pra melhorar?\n",
    "\n",
    "O que será que é normal para um banco? Dar muito crédito? Negar muito crédito? Um pouco dos dois? Se nosso banco em questão sempre aceitar ou negar crédito, fica muito fácil aprender, correto? Vamos analisar esses dados (quando digo vamos, quero dizer você, ok?): quantos créditos foram aprovados e quantos foram negados?"
   ]
  },
  {
   "cell_type": "code",
   "execution_count": 5,
   "metadata": {},
   "outputs": [
    {
     "data": {
      "text/plain": [
       "<matplotlib.axes._subplots.AxesSubplot at 0x7ff429bdbcf8>"
      ]
     },
     "execution_count": 5,
     "metadata": {},
     "output_type": "execute_result"
    },
    {
     "data": {
      "image/png": "[encoded data removed]",
      "text/plain": [
       "<matplotlib.figure.Figure at 0x7ff43834f438>"
      ]
     },
     "metadata": {},
     "output_type": "display_data"
    }
   ],
   "source": [
    "%matplotlib inline\n",
    "df[\"Y\"].value_counts().plot(kind=\"bar\")"
   ]
  },
  {
   "cell_type": "markdown",
   "metadata": {},
   "source": [
    "Ok, temos um problema. A quantidade de dados de créditos negados é **bem maior** que a de créditos aprovados. E agora? É provável que nosso modelo tenha aprendido errado! Ele pode estar sempre chutando que o crétido foi negado, e isso não é bom! Como que podemos resolver isso?"
   ]
  },
  {
   "cell_type": "markdown",
   "metadata": {},
   "source": [
    "## Prototipação\n",
    "\n",
    "Poxa, seria bem legal se a gente(você) conseguisse equilibrar as quantidades, perrmitindo um **balanceamento** do dado, certo? Como que podemos fazer isso?\n",
    "\n",
    "Uma maneira bem ingênua e intuitiva é pegar apenas uma parcela do dado, mas isso não é algo inteligente. Muitos cientistas de dados gostariam de ter **muitos** dados, pois dados podem virar informação. Logo, descartar dados é uma péssima ideia.\n",
    "\n",
    "E se houvesse uma maneira de representar os dados utilizando menos dados ou selecionando um subgrupo, porém que fosse representativo daquele conjunto de dados? Mas como podemos gerar essas informações *representativas*?\n",
    "\n",
    "$$\\textit{Clusters}$$\n",
    "\n",
    "Opa, é uma ótima ideia! Digo, um cluster consegue representar um grupo de dados, certo? E se tentássemos(você) clusterizar os dados dos clientes em, digamos 7000 dados? Dessa maneira, os 7000 clusteres gerados representariam todos os 23000 dados! \n",
    "\n",
    "Mãos à obra!"
   ]
  },
  {
   "cell_type": "code",
   "execution_count": 15,
   "metadata": {},
   "outputs": [
    {
     "data": {
      "text/plain": [
       "array([[1.70000000e+05, 1.66666667e+00, 1.66666667e+00, ...,\n",
       "        2.42388889e+02, 5.11694444e+02, 1.49916667e+03],\n",
       "       [2.70000000e+05, 1.00000000e+00, 1.00000000e+00, ...,\n",
       "        2.50000000e+04, 1.50000000e+04, 1.50000000e+04],\n",
       "       [1.00000000e+05, 1.75000000e+00, 1.91666667e+00, ...,\n",
       "        1.82608333e+03, 1.16741667e+03, 2.08600000e+03],\n",
       "       ...,\n",
       "       [3.00000000e+05, 2.00000000e+00, 1.00000000e+00, ...,\n",
       "        5.01400000e+03, 2.00000000e+03, 1.00000000e+03],\n",
       "       [7.50000000e+04, 2.00000000e+00, 2.50000000e+00, ...,\n",
       "        2.82200000e+03, 1.71640000e+04, 1.62500000e+03],\n",
       "       [1.32500000e+05, 1.50000000e+00, 1.50000000e+00, ...,\n",
       "        4.08637500e+03, 3.70162500e+03, 2.92125000e+03]])"
      ]
     },
     "execution_count": 15,
     "metadata": {},
     "output_type": "execute_result"
    }
   ],
   "source": [
    "data_0 = df[df[\"Y\"] == 0].values[:,1:]\n",
    "\n",
    "from sklearn.cluster import KMeans\n",
    "cluster_model = KMeans(n_clusters=7000, max_iter=1)\n",
    "cluster_model.fit(data_0[:,0:-1])\n",
    "cluster_model.cluster_centers_"
   ]
  },
  {
   "cell_type": "code",
   "execution_count": 26,
   "metadata": {},
   "outputs": [
    {
     "data": {
      "text/plain": [
       "(13636, 24)"
      ]
     },
     "execution_count": 26,
     "metadata": {},
     "output_type": "execute_result"
    }
   ],
   "source": [
    "prototiped_data = np.c_[cluster_model.cluster_centers_, np.zeros(7000)]\n",
    "prototiped_data.shape\n",
    "\n",
    "balanced_data = np.r_[prototiped_data, df[df[\"Y\"]==1].values[:,1:]]\n",
    "balanced_data.shape"
   ]
  },
  {
   "cell_type": "markdown",
   "metadata": {},
   "source": [
    "Agora que temos os clusteres, podemos(você) treinar o modelo utilizando os clusteres e os dados de crédito aprovado. Será que o resultado vai ser melhor? Descubra!"
   ]
  },
  {
   "cell_type": "code",
   "execution_count": 29,
   "metadata": {},
   "outputs": [
    {
     "data": {
      "text/plain": [
       "0.780791788856305"
      ]
     },
     "execution_count": 29,
     "metadata": {},
     "output_type": "execute_result"
    }
   ],
   "source": [
    "np.random.shuffle(balanced_data)\n",
    "train_size = floor(0.8 * balanced_data.shape[0])\n",
    "train_data = balanced_data[:train_size,:]\n",
    "test_data = balanced_data[train_size:,:]\n",
    "\n",
    "model = KNeighborsClassifier(n_neighbors= 5)\n",
    "model.fit(train_data[:, 0:-1], train_data[:, -1])\n",
    "model.score(test_data[:,0:-1], test_data[:,-1])"
   ]
  },
  {
   "cell_type": "markdown",
   "metadata": {},
   "source": [
    "Então, ficou melhor o resultado? Bom, uma certeza que temos é que nós ficamos com **menos dados**, logo, nosso *kNN* é capaz de rodar de maneira mais rápida, concorda? Então, perdendo ou não um pouco na acurácia do modelo, isso pode acabar valendo a pena em termos de recursos computacionais."
   ]
  },
  {
   "cell_type": "markdown",
   "metadata": {},
   "source": [
    "## Nada é tão bom que não possa melhorar\n",
    "\n",
    "\n",
    "Experimente agora melhorar o resultado do *kNN*. Utilize algumas das técnicas vistas até agora no curso (ou as que \n",
    "você viu mais na frente, caso esteja revendo o material) para melhorar a acurácia do seu modelo. Algumas ideias:\n",
    "\n",
    "* Mudar o algoritmo de clusterização\n",
    "* Reduzir a dimensão dos dados\n",
    "* Dividir os dados completos em uma mesma proporção de créditos aprovados e negados"
   ]
  },
  {
   "cell_type": "code",
   "execution_count": null,
   "metadata": {},
   "outputs": [],
   "source": []
  }
 ],
 "metadata": {
  "kernelspec": {
   "display_name": "Python 3",
   "language": "python",
   "name": "python3"
  },
  "language_info": {
   "codemirror_mode": {
    "name": "ipython",
    "version": 3
   },
   "file_extension": ".py",
   "mimetype": "text/x-python",
   "name": "python",
   "nbconvert_exporter": "python",
   "pygments_lexer": "ipython3",
   "version": "3.6.4"
  }
 },
 "nbformat": 4,
 "nbformat_minor": 2
}
